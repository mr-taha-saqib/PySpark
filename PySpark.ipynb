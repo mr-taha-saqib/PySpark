{
  "nbformat": 4,
  "nbformat_minor": 0,
  "metadata": {
    "colab": {
      "provenance": []
    },
    "kernelspec": {
      "name": "python3",
      "display_name": "Python 3"
    },
    "language_info": {
      "name": "python"
    }
  },
  "cells": [
    {
      "cell_type": "code",
      "execution_count": null,
      "metadata": {
        "colab": {
          "base_uri": "https://localhost:8080/"
        },
        "id": "r8TsKYfzKeKX",
        "outputId": "3d96c3d9-50aa-47bb-fa91-d136f33decb5"
      },
      "outputs": [
        {
          "output_type": "stream",
          "name": "stdout",
          "text": [
            "Looking in indexes: https://pypi.org/simple, https://us-python.pkg.dev/colab-wheels/public/simple/\n",
            "Collecting pyspark\n",
            "  Downloading pyspark-3.3.2.tar.gz (281.4 MB)\n",
            "\u001b[2K     \u001b[90m━━━━━━━━━━━━━━━━━━━━━━━━━━━━━━━━━━━━━━━\u001b[0m \u001b[32m281.4/281.4 MB\u001b[0m \u001b[31m4.5 MB/s\u001b[0m eta \u001b[36m0:00:00\u001b[0m\n",
            "\u001b[?25h  Preparing metadata (setup.py) ... \u001b[?25l\u001b[?25hdone\n",
            "Collecting py4j==0.10.9.5\n",
            "  Downloading py4j-0.10.9.5-py2.py3-none-any.whl (199 kB)\n",
            "\u001b[2K     \u001b[90m━━━━━━━━━━━━━━━━━━━━━━━━━━━━━━━━━━━━━━\u001b[0m \u001b[32m199.7/199.7 KB\u001b[0m \u001b[31m10.6 MB/s\u001b[0m eta \u001b[36m0:00:00\u001b[0m\n",
            "\u001b[?25hBuilding wheels for collected packages: pyspark\n",
            "  Building wheel for pyspark (setup.py) ... \u001b[?25l\u001b[?25hdone\n",
            "  Created wheel for pyspark: filename=pyspark-3.3.2-py2.py3-none-any.whl size=281824028 sha256=4217783a2496a2e9f926889a6a2ad9c66b00a1658f79df39abe83a042649d360\n",
            "  Stored in directory: /root/.cache/pip/wheels/6c/e3/9b/0525ce8a69478916513509d43693511463c6468db0de237c86\n",
            "Successfully built pyspark\n",
            "Installing collected packages: py4j, pyspark\n",
            "  Attempting uninstall: py4j\n",
            "    Found existing installation: py4j 0.10.9.7\n",
            "    Uninstalling py4j-0.10.9.7:\n",
            "      Successfully uninstalled py4j-0.10.9.7\n",
            "Successfully installed py4j-0.10.9.5 pyspark-3.3.2\n"
          ]
        }
      ],
      "source": [
        "pip install pyspark"
      ]
    },
    {
      "cell_type": "code",
      "source": [
        "from pyspark import SparkContext, SparkConf"
      ],
      "metadata": {
        "id": "zhcuCzg0KfLK"
      },
      "execution_count": null,
      "outputs": []
    },
    {
      "cell_type": "code",
      "source": [
        "conf = SparkConf().setAppName('appName').setMaster('local[*]')\n",
        "sc=SparkContext(conf=conf)"
      ],
      "metadata": {
        "id": "rXn3r_bSKfIj"
      },
      "execution_count": null,
      "outputs": []
    },
    {
      "cell_type": "code",
      "source": [
        "#Q1\n",
        "my_list=list(range(0,11))\n",
        "rdd=sc.parallelize(my_list)\n",
        "rdd1=rdd.map(lambda x:x*x).collect()\n",
        "print(rdd1)"
      ],
      "metadata": {
        "colab": {
          "base_uri": "https://localhost:8080/"
        },
        "id": "MYN4xD6eKfGD",
        "outputId": "24686d70-7401-4724-da3c-87ca77b70958"
      },
      "execution_count": null,
      "outputs": [
        {
          "output_type": "stream",
          "name": "stdout",
          "text": [
            "[0, 1, 4, 9, 16, 25, 36, 49, 64, 81, 100]\n"
          ]
        }
      ]
    },
    {
      "cell_type": "code",
      "source": [
        "import pyspark\n",
        "import random"
      ],
      "metadata": {
        "id": "RNTA3K-zLEg9"
      },
      "execution_count": null,
      "outputs": []
    },
    {
      "cell_type": "code",
      "source": [
        "#Q2\n",
        "my_list1=[]\n",
        "for x in range(20):\n",
        "  my_list1.append(random.randint(5,200))\n",
        "my_list1"
      ],
      "metadata": {
        "colab": {
          "base_uri": "https://localhost:8080/"
        },
        "id": "2deuJZajKfDT",
        "outputId": "9e1b8caa-0a72-4e0a-d16e-bf8ba5a5b3d8"
      },
      "execution_count": null,
      "outputs": [
        {
          "output_type": "execute_result",
          "data": {
            "text/plain": [
              "[29,\n",
              " 11,\n",
              " 85,\n",
              " 9,\n",
              " 19,\n",
              " 170,\n",
              " 127,\n",
              " 157,\n",
              " 159,\n",
              " 147,\n",
              " 112,\n",
              " 124,\n",
              " 38,\n",
              " 111,\n",
              " 97,\n",
              " 148,\n",
              " 108,\n",
              " 174,\n",
              " 58,\n",
              " 154]"
            ]
          },
          "metadata": {},
          "execution_count": 18
        }
      ]
    },
    {
      "cell_type": "code",
      "source": [
        "ml= sc.parallelize(my_list1)\n",
        "ml1=ml.filter(lambda x:x%5==0)\n",
        "ml1.collect()"
      ],
      "metadata": {
        "colab": {
          "base_uri": "https://localhost:8080/"
        },
        "id": "XC8jTv3fOhtk",
        "outputId": "e0569f9e-ac5e-4b95-8695-1841f758e47b"
      },
      "execution_count": null,
      "outputs": [
        {
          "output_type": "execute_result",
          "data": {
            "text/plain": [
              "[85, 170]"
            ]
          },
          "metadata": {},
          "execution_count": 21
        }
      ]
    },
    {
      "cell_type": "code",
      "source": [
        "#Q3\n",
        "word=[\"I\",\"am\",\"Taha\"]\n",
        "rdd=sc.parallelize(word)\n",
        "type(rdd)\n",
        "rdd.collect()"
      ],
      "metadata": {
        "colab": {
          "base_uri": "https://localhost:8080/"
        },
        "id": "mMKS6Zd7KfAr",
        "outputId": "9281949d-b599-4b4a-d607-6d87c30a840c"
      },
      "execution_count": null,
      "outputs": [
        {
          "output_type": "execute_result",
          "data": {
            "text/plain": [
              "['I', 'am', 'Taha']"
            ]
          },
          "metadata": {},
          "execution_count": 29
        }
      ]
    },
    {
      "cell_type": "code",
      "source": [
        "#Q4\n",
        "frdd=sc.textFile(\"inputFile.txt\")\n",
        "\n",
        "frdd.collect()"
      ],
      "metadata": {
        "colab": {
          "base_uri": "https://localhost:8080/"
        },
        "id": "ElT2ywBXKe-L",
        "outputId": "8005ec2d-4044-4421-d447-d0ed8d5f6d1e"
      },
      "execution_count": null,
      "outputs": [
        {
          "output_type": "execute_result",
          "data": {
            "text/plain": [
              "['people are not as beautiful as they look, ',\n",
              " 'as they walk or as they talk.',\n",
              " 'they are only as beautiful  as they love, ',\n",
              " 'as they care as they share.']"
            ]
          },
          "metadata": {},
          "execution_count": 42
        }
      ]
    },
    {
      "cell_type": "code",
      "source": [
        "type(frdd)"
      ],
      "metadata": {
        "colab": {
          "base_uri": "https://localhost:8080/"
        },
        "id": "OThv7no5Ke7c",
        "outputId": "59cc1c35-5f26-499c-b5e9-dd67b9a5a60b"
      },
      "execution_count": null,
      "outputs": [
        {
          "output_type": "execute_result",
          "data": {
            "text/plain": [
              "pyspark.rdd.RDD"
            ]
          },
          "metadata": {},
          "execution_count": 28
        }
      ]
    },
    {
      "cell_type": "code",
      "source": [
        "#Q5\n",
        "frdd=sc.textFile(\"inputFile.txt\")\n",
        "frdd.getNumPartitions()"
      ],
      "metadata": {
        "colab": {
          "base_uri": "https://localhost:8080/"
        },
        "id": "oNRVLw9fQEas",
        "outputId": "e4128ade-5134-4226-913c-8d230829a37f"
      },
      "execution_count": null,
      "outputs": [
        {
          "output_type": "execute_result",
          "data": {
            "text/plain": [
              "2"
            ]
          },
          "metadata": {},
          "execution_count": 31
        }
      ]
    },
    {
      "cell_type": "code",
      "source": [
        "fr=sc.textFile(\"inputFile.txt\",minPartitions=5)\n",
        "fr.getNumPartitions()"
      ],
      "metadata": {
        "colab": {
          "base_uri": "https://localhost:8080/"
        },
        "id": "q1S8x6zwQOG0",
        "outputId": "d920d938-cb22-4a7c-eb02-275bbff111ed"
      },
      "execution_count": null,
      "outputs": [
        {
          "output_type": "execute_result",
          "data": {
            "text/plain": [
              "5"
            ]
          },
          "metadata": {},
          "execution_count": 32
        }
      ]
    },
    {
      "cell_type": "code",
      "source": [
        "#Q6\n",
        "my_l=list(range(0,11))\n",
        "rdd=sc.parallelize(my_l)\n",
        "rdd3=rdd.map(lambda x:x*x*x).collect()\n",
        "print(rdd3)"
      ],
      "metadata": {
        "colab": {
          "base_uri": "https://localhost:8080/"
        },
        "id": "LfQ3irPvQanz",
        "outputId": "bdaf71ab-9a96-4807-d9e3-0bd32c7eeca2"
      },
      "execution_count": null,
      "outputs": [
        {
          "output_type": "stream",
          "name": "stdout",
          "text": [
            "[0, 1, 8, 27, 64, 125, 216, 343, 512, 729, 1000]\n"
          ]
        }
      ]
    },
    {
      "cell_type": "code",
      "source": [
        "#Q7\n",
        "ip=sc.textFile(\"inputFile.txt\")\n",
        "ip1=ip.filter(lambda x:\"beautiful\" in x)\n",
        "ip1.count()"
      ],
      "metadata": {
        "colab": {
          "base_uri": "https://localhost:8080/"
        },
        "id": "o_QfDOSaRLyL",
        "outputId": "914fe21e-5c64-4f43-c6bb-4c407bfb7424"
      },
      "execution_count": null,
      "outputs": [
        {
          "output_type": "execute_result",
          "data": {
            "text/plain": [
              "2"
            ]
          },
          "metadata": {},
          "execution_count": 53
        }
      ]
    },
    {
      "cell_type": "code",
      "source": [
        "ip1.collect()"
      ],
      "metadata": {
        "colab": {
          "base_uri": "https://localhost:8080/"
        },
        "id": "VK4x-4t7S7sA",
        "outputId": "7dfef361-fe29-4dfa-a3c7-1d809f6e7443"
      },
      "execution_count": null,
      "outputs": [
        {
          "output_type": "execute_result",
          "data": {
            "text/plain": [
              "['people are not as beautiful as they look, ',\n",
              " 'they are only as beautiful  as they love, ']"
            ]
          },
          "metadata": {},
          "execution_count": 54
        }
      ]
    },
    {
      "cell_type": "code",
      "source": [
        "#Q8\n",
        "lst=list(\"Hello World,I am under the water\")\n",
        "lst1=sc.parallelize(lst)\n",
        "lst1.collect()"
      ],
      "metadata": {
        "colab": {
          "base_uri": "https://localhost:8080/"
        },
        "id": "JLIAV7r_TDYP",
        "outputId": "c64ddc7f-382e-4beb-bfc1-373188d352c5"
      },
      "execution_count": null,
      "outputs": [
        {
          "output_type": "execute_result",
          "data": {
            "text/plain": [
              "['H',\n",
              " 'e',\n",
              " 'l',\n",
              " 'l',\n",
              " 'o',\n",
              " ' ',\n",
              " 'W',\n",
              " 'o',\n",
              " 'r',\n",
              " 'l',\n",
              " 'd',\n",
              " ',',\n",
              " 'I',\n",
              " ' ',\n",
              " 'a',\n",
              " 'm',\n",
              " ' ',\n",
              " 'u',\n",
              " 'n',\n",
              " 'd',\n",
              " 'e',\n",
              " 'r',\n",
              " ' ',\n",
              " 't',\n",
              " 'h',\n",
              " 'e',\n",
              " ' ',\n",
              " 'w',\n",
              " 'a',\n",
              " 't',\n",
              " 'e',\n",
              " 'r']"
            ]
          },
          "metadata": {},
          "execution_count": 55
        }
      ]
    },
    {
      "cell_type": "code",
      "source": [
        "lst2=lst1.flatMap(lambda x:x.split())\n",
        "lst2.collect()"
      ],
      "metadata": {
        "colab": {
          "base_uri": "https://localhost:8080/"
        },
        "id": "9Ozg22wKTwvT",
        "outputId": "a2e62f95-45d2-435e-ef75-fcc914098866"
      },
      "execution_count": null,
      "outputs": [
        {
          "output_type": "execute_result",
          "data": {
            "text/plain": [
              "['H',\n",
              " 'e',\n",
              " 'l',\n",
              " 'l',\n",
              " 'o',\n",
              " 'W',\n",
              " 'o',\n",
              " 'r',\n",
              " 'l',\n",
              " 'd',\n",
              " ',',\n",
              " 'I',\n",
              " 'a',\n",
              " 'm',\n",
              " 'u',\n",
              " 'n',\n",
              " 'd',\n",
              " 'e',\n",
              " 'r',\n",
              " 't',\n",
              " 'h',\n",
              " 'e',\n",
              " 'w',\n",
              " 'a',\n",
              " 't',\n",
              " 'e',\n",
              " 'r']"
            ]
          },
          "metadata": {},
          "execution_count": 56
        }
      ]
    },
    {
      "cell_type": "code",
      "source": [
        "#Q9\n",
        "list3=[]\n",
        "for x in range(1,11):\n",
        "  list3.append(random.randint(5,200))\n",
        "list3"
      ],
      "metadata": {
        "colab": {
          "base_uri": "https://localhost:8080/"
        },
        "id": "UvVHQZExUK7s",
        "outputId": "9c48a855-df39-4439-b891-8c828370191d"
      },
      "execution_count": null,
      "outputs": [
        {
          "output_type": "execute_result",
          "data": {
            "text/plain": [
              "[166, 89, 200, 75, 199, 193, 71, 35, 115, 123]"
            ]
          },
          "metadata": {},
          "execution_count": 52
        }
      ]
    },
    {
      "cell_type": "code",
      "source": [
        "ls1=sc.parallelize(list3)\n",
        "for x in range(len(list3)):\n",
        "  max=0\n",
        "  ls2=ls1.filter(lambda x:x > max)\n",
        "ls2.collect()"
      ],
      "metadata": {
        "colab": {
          "base_uri": "https://localhost:8080/"
        },
        "id": "W9og72F2UK0s",
        "outputId": "4d26dc6e-331d-43a3-e63b-2d9e5916df21"
      },
      "execution_count": null,
      "outputs": [
        {
          "output_type": "execute_result",
          "data": {
            "text/plain": [
              "[166, 89, 200, 75, 199, 193, 71, 35, 115, 123]"
            ]
          },
          "metadata": {},
          "execution_count": 61
        }
      ]
    },
    {
      "cell_type": "code",
      "source": [
        "#Q10\n",
        "\n",
        "str1=sc.parallelize([\"I\",\"am\",\"Taha\",\"Saqib\"])\n",
        "str2=sc.parallelize([\"Taha\",\"I\"]\n",
        "\n",
        "new=str1.intersection(str2)\n",
        "for name in new.collect():\n",
        "  print(name)"
      ],
      "metadata": {
        "id": "1RWe3zM6VfPH"
      },
      "execution_count": null,
      "outputs": []
    },
    {
      "cell_type": "code",
      "source": [],
      "metadata": {
        "id": "ivXW7bM5aI2u"
      },
      "execution_count": null,
      "outputs": []
    }
  ]
}